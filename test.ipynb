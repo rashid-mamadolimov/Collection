{
 "cells": [
  {
   "cell_type": "code",
   "execution_count": 1,
   "id": "14f3ace6-5369-44a2-9a61-fb618091cf4d",
   "metadata": {},
   "outputs": [],
   "source": [
    "file1 = open('testtext.txt')"
   ]
  },
  {
   "cell_type": "code",
   "execution_count": 5,
   "id": "8128c1a1-6ec0-433c-9af1-2f0ff20b529a",
   "metadata": {},
   "outputs": [
    {
     "name": "stdout",
     "output_type": "stream",
     "text": [
      "[]\n"
     ]
    }
   ],
   "source": [
    "print(file1.readlines())"
   ]
  },
  {
   "cell_type": "code",
   "execution_count": null,
   "id": "6bfc344a-7725-4559-9f59-8418f59485f2",
   "metadata": {},
   "outputs": [],
   "source": []
  }
 ],
 "metadata": {
  "kernelspec": {
   "display_name": "Python 3",
   "language": "python",
   "name": "python3"
  },
  "language_info": {
   "codemirror_mode": {
    "name": "ipython",
    "version": 3
   },
   "file_extension": ".py",
   "mimetype": "text/x-python",
   "name": "python",
   "nbconvert_exporter": "python",
   "pygments_lexer": "ipython3",
   "version": "3.8.8"
  }
 },
 "nbformat": 4,
 "nbformat_minor": 5
}
